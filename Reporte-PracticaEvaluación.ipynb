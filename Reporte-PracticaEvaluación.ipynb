{
 "cells": [
  {
   "cell_type": "markdown",
   "metadata": {},
   "source": [
    "Se implemento el código visto en clase, realizando algunas modificaciones para lograr que solo se encendieran el led del master y uno de esclavo."
   ]
  },
  {
   "cell_type": "code",
   "execution_count": null,
   "metadata": {
    "collapsed": true
   },
   "outputs": [],
   "source": [
    "from mpi4py import MPI\n",
    "\n",
    "import RPi.GPIO as GPIO\n",
    "\n",
    "import time as time\n",
    "\n",
    "# Set up GPIO\n",
    "\n",
    "GPIO.cleanup()\n",
    "\n",
    "GPIO.setmode(GPIO.BCM)\n",
    "\n",
    "GPIO.setup(27, GPIO.OUT) #Mestro Proceso 0, led verde\n",
    "\n",
    "GPIO.setup(18, GPIO.OUT) #Proceso 1, led rojo\n",
    "\n",
    "# MPI variables for communication, rank, size, and name of the node\n",
    "\n",
    "comm = MPI.COMM_WORLD\n",
    "\n",
    "rank = comm.Get_rank()\n",
    "\n",
    "size = comm.Get_size()\n",
    "\n",
    "name = MPI.Get_processor_name()\n",
    "\n",
    "\n",
    "\n",
    "total_requests = 12\n",
    "\n",
    "print \"rank=\",rank\n",
    "\n",
    "# This is the master node.\n",
    "\n",
    "if rank == 0:\n",
    "\n",
    "    request = 0\n",
    "\n",
    "    process = 1\n",
    "\n",
    "\n",
    "\n",
    "      # Send the first batch of processes to the nodes.\n",
    "\n",
    "    while process < size and request < total_requests:\n",
    "\n",
    "        comm.send(request, dest=process, tag=1)\n",
    "\n",
    "        print \"Sending request\",request,\"to process\",process\n",
    "\n",
    "        request += 1\n",
    "\n",
    "        process += 1\n",
    "\n",
    "\n",
    "\n",
    "    # Wait for the data to come back\n",
    "\n",
    "    received_processes = 0\n",
    "\n",
    "    while received_processes < total_requests:\n",
    "\n",
    "        process = comm.recv(source=MPI.ANY_SOURCE, tag=1)\n",
    "\n",
    "        print \"Received data from process\", process\n",
    "\n",
    "        if (process == 1):\n",
    "\n",
    "            GPIO.output(18,True)\n",
    "\n",
    "            time.sleep(1)\n",
    "\n",
    "            GPIO.output(18,False)\n",
    "\n",
    "\n",
    "        if request < total_requests:\n",
    "\n",
    "            comm.send(request, dest=process, tag=1)\n",
    "\n",
    "            print \"Sending request\",request,\"to process\", process\n",
    "\n",
    "            GPIO.output(27, True)\n",
    "\n",
    "            request += 1\n",
    "\n",
    "# Send the shutdown signal\n",
    "\n",
    "    for process in range(1,size):\n",
    "\n",
    "        comm.send(-1, dest=process, tag=1)\n",
    "\n",
    "    print \"End\"\n",
    "\n",
    "\n",
    "\n",
    "\n",
    "\n",
    "# These are the slave nodes, where rank > 0. They receive the request from the master node and simply send a response back\n",
    "\n",
    "else:\n",
    "\n",
    "    while True:\n",
    "\n",
    "        start = comm.recv(source=0, tag=1)\n",
    "\n",
    "        if start == -1: break\n",
    "\n",
    "        comm.send(rank, dest=0, tag=1)\n",
    "\n",
    "\n",
    "\n",
    "\n",
    "\n",
    "#Clean up GPIO activities after all processing takes place\n",
    "\n",
    "GPIO.cleanup()\n"
   ]
  },
  {
   "cell_type": "markdown",
   "metadata": {},
   "source": [
    "# Implementación de practica 21/06/2017\n",
    "\n",
    "Primero se realiza una conexion ssh con la RaspBerry con la herramienta Putty."
   ]
  },
  {
   "cell_type": "code",
   "execution_count": 2,
   "metadata": {},
   "outputs": [
    {
     "data": {
      "text/html": [
       "<img src=\"http://i64.tinypic.com/2ajntw6.jpg\"/>"
      ],
      "text/plain": [
       "<IPython.core.display.Image object>"
      ]
     },
     "execution_count": 2,
     "metadata": {},
     "output_type": "execute_result"
    }
   ],
   "source": [
    "from IPython.display import Image\n",
    "Image(url= 'http://i64.tinypic.com/2ajntw6.jpg')"
   ]
  },
  {
   "cell_type": "markdown",
   "metadata": {},
   "source": [
    "Se ingresa al dirección de comades/python, donde se creo el script de python, en este caso lo llamamos  ledEquipo3 (se crea el archivo con la función nano, y si se quiere editar un archivo seria con la misma funcion colocando posteriormente el nombre del archivo y extensión).\n",
    "Una vez que se realiza el archivo .py este se debe de copiar a la raspberry la cual funcionara como esclavo, la dirección a donde se va a copiar el archivo debe de ser la misma comades/python.\n"
   ]
  },
  {
   "cell_type": "code",
   "execution_count": 1,
   "metadata": {},
   "outputs": [
    {
     "data": {
      "text/html": [
       "<img src=\"http://i67.tinypic.com/fkuonq.jpg\"/>"
      ],
      "text/plain": [
       "<IPython.core.display.Image object>"
      ]
     },
     "execution_count": 1,
     "metadata": {},
     "output_type": "execute_result"
    }
   ],
   "source": [
    "from IPython.display import Image\n",
    "Image(url= 'http://i67.tinypic.com/fkuonq.jpg')"
   ]
  },
  {
   "cell_type": "markdown",
   "metadata": {},
   "source": [
    "Se debe de modificar el archivo machinefile, colocando unicamente la raspberry que será la esclava, en este caso la rpi-lania2."
   ]
  },
  {
   "cell_type": "code",
   "execution_count": 3,
   "metadata": {},
   "outputs": [
    {
     "data": {
      "text/html": [
       "<img src=\"http://i64.tinypic.com/291kgld.jpg\"/>"
      ],
      "text/plain": [
       "<IPython.core.display.Image object>"
      ]
     },
     "execution_count": 3,
     "metadata": {},
     "output_type": "execute_result"
    }
   ],
   "source": [
    "from IPython.display import Image\n",
    "Image(url= 'http://i64.tinypic.com/291kgld.jpg')"
   ]
  },
  {
   "cell_type": "markdown",
   "metadata": {},
   "source": [
    "Posteriormente se ejecuta el comando mpirun, haciendo enfasís a dos procesos:\n",
    "\n",
    "pi@rpi-lania5:~ $ mpirun.openmpi -np 2 -host rpi-lania5.local,rpi-lania2.local python ledEquipo3.py"
   ]
  }
 ],
 "metadata": {
  "kernelspec": {
   "display_name": "Python 2",
   "language": "python",
   "name": "python2"
  },
  "language_info": {
   "codemirror_mode": {
    "name": "ipython",
    "version": 2
   },
   "file_extension": ".py",
   "mimetype": "text/x-python",
   "name": "python",
   "nbconvert_exporter": "python",
   "pygments_lexer": "ipython2",
   "version": "2.7.13"
  }
 },
 "nbformat": 4,
 "nbformat_minor": 2
}
